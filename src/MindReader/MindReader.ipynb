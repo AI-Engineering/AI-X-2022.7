{
 "cells": [
  {
   "cell_type": "markdown",
   "metadata": {},
   "source": [
    "## 미니 프로젝트\n",
    "#### Mind Reader Game\n",
    "#### Kang, Hyunwoo @ Detp. AI Engineering, Daegu, Korea Polytechnics"
   ]
  },
  {
   "cell_type": "code",
   "execution_count": 1,
   "metadata": {},
   "outputs": [],
   "source": [
    "import turtle as t\n",
    "import random"
   ]
  },
  {
   "cell_type": "code",
   "execution_count": 2,
   "metadata": {},
   "outputs": [],
   "source": [
    "t.setup(width = 800, height = 600, startx = 0, starty = 0)\n",
    "num_of_icon = 10"
   ]
  },
  {
   "cell_type": "markdown",
   "metadata": {},
   "source": [
    "###### 아이콘 등록"
   ]
  },
  {
   "cell_type": "code",
   "execution_count": 3,
   "metadata": {},
   "outputs": [],
   "source": [
    "for i in range (num_of_icon):\n",
    "    t.register_shape(\"icon/icon\" + str(i) + \".gif\")"
   ]
  },
  {
   "cell_type": "code",
   "execution_count": 4,
   "metadata": {},
   "outputs": [],
   "source": [
    "t.home()\n",
    "\n",
    "#정답으로 사용할 아이콘의 index를 저장할 변수\n",
    "ans_index = 0"
   ]
  },
  {
   "cell_type": "markdown",
   "metadata": {},
   "source": [
    "###### 최초 위치 설정"
   ]
  },
  {
   "cell_type": "code",
   "execution_count": 5,
   "metadata": {},
   "outputs": [],
   "source": [
    "start_x_pos = -350\n",
    "start_y_pos = 250"
   ]
  },
  {
   "cell_type": "markdown",
   "metadata": {},
   "source": [
    "###### posX, posY 에 임의의 스탬프를 찍는 함수"
   ]
  },
  {
   "cell_type": "code",
   "execution_count": 6,
   "metadata": {},
   "outputs": [],
   "source": [
    "def rand_stamp (posX, posY):\n",
    "    t.goto(posX, posY)\n",
    "    icon_num = random.randint(0, num_of_icon - 1)\n",
    "    t.shape(\"icon/icon\" + str(icon_num) + \".gif\")\n",
    "    t.stamp()"
   ]
  },
  {
   "cell_type": "markdown",
   "metadata": {},
   "source": [
    "###### posX, posY 에 정답 아이콘을 찍는 함수"
   ]
  },
  {
   "cell_type": "code",
   "execution_count": 7,
   "metadata": {},
   "outputs": [],
   "source": [
    "def draw_ans (posX, posY):\n",
    "    t.goto(posX, posY)\n",
    "    t.shape(\"icon/icon\" + str(ans_index) + \".gif\")\n",
    "    t.stamp()"
   ]
  },
  {
   "cell_type": "markdown",
   "metadata": {},
   "source": [
    "###### (startX, startY) 부터 (endX, endY) 까지 선을 그리는 함수"
   ]
  },
  {
   "cell_type": "code",
   "execution_count": 8,
   "metadata": {},
   "outputs": [],
   "source": [
    "def draw_line (startX, startY, endX, endY):\n",
    "    t.goto(startX, startY)\n",
    "    t.pendown()\n",
    "    t.goto(endX, endY)\n",
    "    t.penup()"
   ]
  },
  {
   "cell_type": "markdown",
   "metadata": {},
   "source": [
    "###### 전체 화면에 격자 라인을 그리는 함수"
   ]
  },
  {
   "cell_type": "code",
   "execution_count": 9,
   "metadata": {},
   "outputs": [],
   "source": [
    "def draw_board():\n",
    "    for x in range (-375, -375 + 50*11, 50):\n",
    "        draw_line(x, 275, x, -225)\n",
    "    for y in range (-225, -225 + 50*11, 50):\n",
    "        draw_line(-375, y, -375 + 50*10, y)"
   ]
  },
  {
   "cell_type": "markdown",
   "metadata": {},
   "source": [
    "###### 10x10 이미지를 그리는 함수"
   ]
  },
  {
   "cell_type": "code",
   "execution_count": 10,
   "metadata": {},
   "outputs": [],
   "source": [
    "def start_game():\n",
    "    t.reset() \n",
    "    t.penup()\n",
    "    t.hideturtle()  #커서를 보이지 않게 함\n",
    "    #매 판마다 정답은 달라져야 함\n",
    "    global ans_index\n",
    "    ans_index = random.randint(0, num_of_icon - 1)\n",
    "       \n",
    "    #10줄 반복\n",
    "    for line in range (10):\n",
    "        #줄이 바뀔 때 마다 y의 좌표가 50씩 감소함\n",
    "        posX = start_x_pos\n",
    "        posY = start_y_pos - line * 50\n",
    "        \n",
    "        #모양 변경하며 10회 출력\n",
    "        for i in range (10):\n",
    "            total_index = line * 10 + i\n",
    "            if total_index % 9 == 0:\n",
    "                draw_ans(posX, posY)\n",
    "            else:\n",
    "                rand_stamp(posX, posY)\n",
    "            posX += 50\n",
    "            \n",
    "    #선그리기\n",
    "    draw_board()"
   ]
  },
  {
   "cell_type": "markdown",
   "metadata": {},
   "source": [
    "###### 정답 보여주기!"
   ]
  },
  {
   "cell_type": "code",
   "execution_count": 11,
   "metadata": {},
   "outputs": [],
   "source": [
    "def show_ans():\n",
    "    t.reset()\n",
    "    draw_ans(0, 0)"
   ]
  },
  {
   "cell_type": "markdown",
   "metadata": {},
   "source": [
    "###### 게임 시작 이벤트 핸들러"
   ]
  },
  {
   "cell_type": "code",
   "execution_count": 12,
   "metadata": {},
   "outputs": [],
   "source": [
    "t.onkey (start_game, \"space\")\n",
    "t.listen()"
   ]
  },
  {
   "cell_type": "markdown",
   "metadata": {},
   "source": [
    "###### 정답 보여주기 이벤트 핸들러"
   ]
  },
  {
   "cell_type": "code",
   "execution_count": 13,
   "metadata": {},
   "outputs": [],
   "source": [
    "t.onkey (show_ans, \"a\")\n",
    "t.listen()    \n",
    "t.done()"
   ]
  },
  {
   "cell_type": "code",
   "execution_count": null,
   "metadata": {},
   "outputs": [],
   "source": []
  }
 ],
 "metadata": {
  "kernelspec": {
   "display_name": "Python 3",
   "language": "python",
   "name": "python3"
  },
  "language_info": {
   "codemirror_mode": {
    "name": "ipython",
    "version": 3
   },
   "file_extension": ".py",
   "mimetype": "text/x-python",
   "name": "python",
   "nbconvert_exporter": "python",
   "pygments_lexer": "ipython3",
   "version": "3.8.5"
  }
 },
 "nbformat": 4,
 "nbformat_minor": 4
}
